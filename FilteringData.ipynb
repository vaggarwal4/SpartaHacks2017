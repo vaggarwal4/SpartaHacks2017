{
 "cells": [
  {
   "cell_type": "code",
   "execution_count": 34,
   "metadata": {
    "collapsed": false
   },
   "outputs": [
    {
     "name": "stdout",
     "output_type": "stream",
     "text": [
      "Now Filtering the data\n"
     ]
    }
   ],
   "source": [
    "import json\n",
    "\n",
    "def load_file():\n",
    "    with open('result2') as data_file:    \n",
    "        data = json.load(data_file)\n",
    "    return data   \n",
    "def filterdata():\n",
    "    data1=[]\n",
    "    for i in range(len(data)):\n",
    "        if str('RT') not in str(data[i]['text'].split()):\n",
    "            if str('@') in str(data[i]['text'].split()):\n",
    "                data1.append(data[i])\n",
    "def savedata():\n",
    "    with open('sparta_result_filtered', 'w') as fout:\n",
    "        json.dump(data1, fout)\n",
    "\n",
    "def main():\n",
    "    data=load_file()\n",
    "    print('Now Filtering the data')\n",
    "    filterdata()\n",
    "    savedata()\n",
    "if __name__ == '__main__':\n",
    "    main()        \n",
    "        "
   ]
  },
  {
   "cell_type": "code",
   "execution_count": 29,
   "metadata": {
    "collapsed": false
   },
   "outputs": [],
   "source": []
  },
  {
   "cell_type": "code",
   "execution_count": 32,
   "metadata": {
    "collapsed": false
   },
   "outputs": [],
   "source": []
  }
 ],
 "metadata": {
  "anaconda-cloud": {},
  "kernelspec": {
   "display_name": "Python [default]",
   "language": "python",
   "name": "python3"
  },
  "language_info": {
   "codemirror_mode": {
    "name": "ipython",
    "version": 3
   },
   "file_extension": ".py",
   "mimetype": "text/x-python",
   "name": "python",
   "nbconvert_exporter": "python",
   "pygments_lexer": "ipython3",
   "version": "3.5.2"
  }
 },
 "nbformat": 4,
 "nbformat_minor": 1
}
